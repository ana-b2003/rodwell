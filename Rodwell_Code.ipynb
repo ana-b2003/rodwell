{
 "cells": [
  {
   "cell_type": "markdown",
   "id": "99352efb",
   "metadata": {},
   "source": [
    "# ========= Data Analysis of Fortran Rodwell Outputs =========\n",
    "\n",
    "### Read through non-table data\n",
    "\n",
    "Do not touch this code unless debugging"
   ]
  },
  {
   "cell_type": "code",
   "execution_count": 2,
   "id": "5b94d36f",
   "metadata": {
    "scrolled": true
   },
   "outputs": [
    {
     "data": {
      "image/png": "[encoded data removed]",
      "text/plain": [
       "<Figure size 432x288 with 1 Axes>"
      ]
     },
     "metadata": {
      "needs_background": "light"
     },
     "output_type": "display_data"
    }
   ],
   "source": [
    "# NON TABLE DATA\n",
    "import numpy as np \n",
    "import pandas as pd \n",
    "import numpy.linalg as la \n",
    "import matplotlib.pyplot as plt\n",
    "from io import StringIO\n",
    "\n",
    "# Helper Functions \n",
    "def minusparse(line):\n",
    "    newline = \"\"\n",
    "    for i in range(len(line)):\n",
    "        if(line[i] == '-'):\n",
    "            newline += \" \" + line[i]\n",
    "        else:\n",
    "            newline += line[i]\n",
    "    return newline\n",
    "\n",
    "def equalparse(line):\n",
    "    temp = [x.strip() for x in line.split(\"=\")]\n",
    "    temp[-1] = temp[-1][:-1]\n",
    "    return temp \n",
    "# END HELPER FUNCTIONS\n",
    "\n",
    "# Open file \n",
    "def nontabledata(file_name):\n",
    "    cnt = 0 \n",
    "    f = open(file_name, \"r\")\n",
    "    data = \"\"\n",
    "    features = [str(i) for i in range(0, 14)]\n",
    "\n",
    "    # Get non-tables \n",
    "    for _ in range(22):\n",
    "        prevline1 = \"\"\n",
    "        prevline2 = \"\"\n",
    "        line = f.readline()\n",
    "\n",
    "        # get position\n",
    "        if(len(line.split()) == 0):\n",
    "            line = 'NONE'\n",
    "        while(line.split()[0] != \"TOTAL\"):\n",
    "            prevline2 = prevline1\n",
    "            prevline1 = line\n",
    "            line = f.readline()\n",
    "            if(len(line.split()) == 0):\n",
    "                line = 'NONE'\n",
    "\n",
    "        # get hours \n",
    "        prevline2 = minusparse(prevline2)\n",
    "        hours = [x for x in prevline2.split(\" \") if x != ''][0]\n",
    "\n",
    "        # get non-table \n",
    "        newline = minusparse(line)\n",
    "        newline = equalparse(newline)\n",
    "        data += str(hours)\n",
    "        while newline[0] != '':        \n",
    "            # add to data \n",
    "            data += \",\" + newline[1]\n",
    "\n",
    "            # update \n",
    "            newline = minusparse(f.readline())\n",
    "            newline = equalparse(newline)\n",
    "        cnt += 1\n",
    "        data += '\\n'\n",
    "\n",
    "    # Convert to pandas object \n",
    "    TESTDATA = StringIO(data)\n",
    "    df = pd.read_csv(TESTDATA, header=None)\n",
    "    df.columns = features\n",
    "    \n",
    "    return df \n",
    "\n",
    "# DF mapping \n",
    "'''\n",
    "  0 - hours \n",
    "  1 - TOTAL ENERGY INPUT BTU \n",
    "  2 - SEASONAL ENERGY INPUT BTU \n",
    "  3 - SEASONAL ENERGY INPUT GAL FUEL \n",
    "  4 - SEASONAL ENERGY RATE BTU/HR\n",
    "  5 - TOTAL ENERGY INPUT GAL FUEL \n",
    "  6 - AVERAGE LB. WATER PER LB. FUEL\n",
    "  7 - SEASONAL LB. WATER PER LB. FUEL\n",
    "  8 - ENERGY FROM AIR TO ICE BTU\n",
    "  9 - SEASONAL ENERGY LOSS, AIR TO ICE BTU \n",
    "  10 - TOTAL WATER WITHDRAWN GAL\n",
    "  11 - SEASONAL WATER WITHDRAWN GAL \n",
    "  12 - TOTAL WATER LOSS GAL\n",
    "  13 - SEASONAL WATER LOSS GAL\n",
    "'''\n",
    "\n",
    "#Graph data for each column vs hours \n",
    "#for name in features: \n",
    "#    plt.scatter(df[\"0\"], df[name])\n",
    "#    plt.xlabel(\"hours\")\n",
    "#    plt.ylabel(name)\n",
    "#    plt.title(name + \" vs. hours\")\n",
    "#    plt.show()\n",
    " \n",
    "df = nontabledata(\"OUTPUT_MARS_CORRECT.DAT\")\n",
    "# df2 = nontabledata(\"3_10kW_68deg_10Gal_MF REDONE.DAT\")\n",
    "# df3 = nontabledata(\"4_15kW_68deg_10Gal_MF REDONE.DAT\")\n",
    "kWh_5 = df[\"1\"] / 3412 * 10**9\n",
    "# kWh_10 = df2[\"1\"] / 3412 * 10**9\n",
    "# kWh_15 = df3[\"1\"] / 3412 * 10**9\n",
    "\n",
    "plt.plot(df[\"0\"], kWh_5, 'bo', label = '5kW')\n",
    "# plt.plot(df2[\"0\"], kWh_10, 'ro', label = '10kW')\n",
    "# plt.plot(df3[\"0\"],kWh_15, 'go', label = '15kW')\n",
    "\n",
    "\n",
    "plt.xlabel(\"hours\")\n",
    "plt.ylabel(\"kWh\")\n",
    "plt.title(\"Energy Input Over Time\")\n",
    "\n",
    "\n",
    "leg = plt.legend()"
   ]
  },
  {
   "cell_type": "markdown",
   "id": "7b731911",
   "metadata": {},
   "source": [
    "### Read through table data:\n",
    "\n",
    "Do not touch this code unless debugging"
   ]
  },
  {
   "cell_type": "code",
   "execution_count": 3,
   "id": "18870c00",
   "metadata": {
    "scrolled": true
   },
   "outputs": [],
   "source": [
    "# READING FROM TABLES\n",
    "import numpy as np \n",
    "import pandas as pd \n",
    "import numpy.linalg as la \n",
    "import matplotlib.pyplot as plt\n",
    "from io import StringIO\n",
    "\n",
    "# Helper Functions \n",
    "def minusparse(line):\n",
    "    newline = \"\"\n",
    "    for i in range(len(line)):\n",
    "        if(line[i] == '-'):\n",
    "            newline += \" \" + line[i]\n",
    "        else:\n",
    "            newline += line[i]\n",
    "    return newline\n",
    "\n",
    "def dataparse(line):\n",
    "    temp = [x for x in line.split(\" \") if x != '']\n",
    "    temp[-1] = temp[-1][:-1]\n",
    "    string_temp = \"\"\n",
    "    for item in temp:\n",
    "        string_temp += \",\" + item\n",
    "    return string_temp \n",
    "# END HELPER FUNCTIONS\n",
    "\n",
    "# Open output file from FORTRAN code\n",
    "def tabledata(file_name):\n",
    "    cnt = 0 \n",
    "    f = open(file_name, \"r\")\n",
    "    for _ in range(15): # eliminate beginning text \n",
    "        __ = f.readline()\n",
    "\n",
    "    # Get first table \n",
    "    data = \"\" \n",
    "    features = [x for x in f.readline().split(\" \") if x != '']\n",
    "    features[-1] = features[-1][0:2]\n",
    "    for _ in range(29):\n",
    "        newline = minusparse(f.readline())\n",
    "        temp = [x for x in newline.split(\" \") if x != '']\n",
    "        temp[-1] = temp[-1][:-1]\n",
    "        string_temp = \"\"\n",
    "        for item in temp:\n",
    "            string_temp += \",\" + item\n",
    "        data += str(cnt) + string_temp + \"\\n\"\n",
    "        cnt += 1\n",
    "\n",
    "    # Get tables \n",
    "    for _ in range(21):\n",
    "        line = f.readline()\n",
    "        if(len(line.split()) == 0):\n",
    "            line = 'NONE'\n",
    "        while(line.split()[0] != \"START\"):\n",
    "            line = f.readline()\n",
    "            if(len(line.split()) == 0):\n",
    "                line = 'NONE'\n",
    "        line = f.readline() # eliminate empty line \n",
    "        line = f.readline() \n",
    "\n",
    "        newline = minusparse(line)\n",
    "        while newline != '\\n':\n",
    "            data += str(cnt) + dataparse(newline) + \"\\n\"\n",
    "            newline = minusparse(f.readline())\n",
    "            cnt += 1\n",
    "\n",
    "    # Convert to pandas object \n",
    "    TESTDATA = StringIO(data)\n",
    "    df = pd.read_csv(TESTDATA, names=features)\n",
    "\n",
    "    return df"
   ]
  },
  {
   "cell_type": "markdown",
   "id": "87afb80a",
   "metadata": {},
   "source": [
    "# ========================== Plotting =========================="
   ]
  },
  {
   "cell_type": "markdown",
   "id": "62fb7f84",
   "metadata": {},
   "source": [
    "### Input your .DAT files here:"
   ]
  },
  {
   "cell_type": "code",
   "execution_count": null,
   "id": "9aca42af",
   "metadata": {},
   "outputs": [],
   "source": [
    "df1 = tabledata(\"50_7.5kW_68_33gal_AB.DAT\") #<------------------- Your file name here\n",
    "df2 = tabledata(\"50_7.5kW_68_33gal_AB.DAT\") #<------------------- Your file name here\n",
    "df3 = tabledata(\"50_7.5kW_68_33gal_AB.DAT\") #<------------------- Your file name here\n",
    "df4 = tabledata(\"50_7.5kW_68_33gal_AB.DAT\") #<------------------- Your file name here\n",
    "df5 = tabledata(\"50_7.5kW_68_33gal_AB.DAT\") #<------------------- Your file name here\n",
    "df6 = tabledata(\"50_7.5kW_68_33gal_AB.DAT\") #<------------------- Your file name here\n",
    "df7 = tabledata(\"50_7.5kW_68_33gal_AB.DAT\") #<------------------- Your file name here\n",
    "df8 = tabledata(\"50_7.5kW_68_33gal_AB.DAT\") #<------------------- Your file name here\n",
    "df9 = tabledata(\"50_7.5kW_68_33gal_AB.DAT\") #<------------------- Your file name here\n",
    "df9 = tabledata(\"50_7.5kW_68_33gal_AB.DAT\") #<------------------- Your file name here\n",
    "df10 = tabledata(\"50_7.5kW_68_33gal_AB.DAT\") #<------------------ Your file name here"
   ]
  },
  {
   "cell_type": "markdown",
   "id": "73e2cdfc",
   "metadata": {},
   "source": [
    "Plot height vs diameter"
   ]
  },
  {
   "cell_type": "code",
   "execution_count": 7,
   "id": "0be03dad",
   "metadata": {
    "scrolled": false
   },
   "outputs": [
    {
     "data": {
      "text/plain": [
       "<matplotlib.legend.Legend at 0x250811d36a0>"
      ]
     },
     "execution_count": 7,
     "metadata": {},
     "output_type": "execute_result"
    },
    {
     "data": {
      "image/png": "[encoded data removed]",
      "text/plain": [
       "<Figure size 576x432 with 1 Axes>"
      ]
     },
     "metadata": {
      "needs_background": "light"
     },
     "output_type": "display_data"
    }
   ],
   "source": [
    "H = (df1[\"HWB\"] - 60) /3.281 #<---------------------------------- Grab height of well\n",
    "D = (df1[\"D\"]) / 3.281 #<---------------------------------------- Grab diameter of well\n",
    "\n",
    "fig = plt.figure(figsize=(8, 6), tight_layout=True) #<----------- Create figure\n",
    "ax1 = fig.add_subplot(221) #<------------------------------------ Create optional subplotting functionality\n",
    "ax1.plot(df1[\"TIME\"], H, 'k-', label='Height') #<---------------- Plot Height\n",
    "ax1.plot(df1[\"TIME\"], D, 'b-', label='Diameter') #<-------------- Plot Diameter\n",
    "ax1.set_xlabel('Time (hrs)') #<---------------------------------- xlabel\n",
    "ax1.set_ylabel('Size (m)') #<------------------------------------ ylabel\n",
    "ax1.set_title('Height vs. Diameter') #<-------------------------- title\n",
    "ax1.legend() #<-------------------------------------------------- legend"
   ]
  },
  {
   "cell_type": "markdown",
   "id": "8530dbd5",
   "metadata": {},
   "source": [
    "Plot Rodwell parabola over time"
   ]
  },
  {
   "cell_type": "code",
   "execution_count": 16,
   "id": "3e16a059",
   "metadata": {},
   "outputs": [
    {
     "data": {
      "image/png": "[encoded data removed]",
      "text/plain": [
       "<Figure size 1850x1050 with 1 Axes>"
      ]
     },
     "metadata": {
      "needs_background": "light"
     },
     "output_type": "display_data"
    },
    {
     "name": "stdout",
     "output_type": "stream",
     "text": [
      "Final Radius: 1.565071624504724\n",
      "Final Height: 159.1801280097531\n",
      "Final Volume: 612.4591985895372\n"
     ]
    }
   ],
   "source": [
    "#function to create A, B, C values of equation of parabola: Ax^2+Bx+C\n",
    "def calc_parabola_vertex(x1, y1, x2, y2, x3, y3):\n",
    "    denom = (x1-x2) * (x1-x3) * (x2-x3)\n",
    "    A     = (x3 * (y2-y1) + x2 * (y1-y3) + x1 * (y3-y2)) / denom\n",
    "    B     = (x3*x3 * (y1-y2) + x2*x2 * (y3-y1) + x1*x1 * (y2-y3)) / denom\n",
    "    C     = (x2 * x3 * (x2-x3) * y1+x3 * x1 * (x3-x1) * y2+x1 * x2 * (x1-x2) * y3) / denom\n",
    "    return A,B,C\n",
    "\n",
    "#initialize arrays to store data from Rodwell code\n",
    "x1 = np.array([]) #<--------------------------------------------- Store x of the right x-intercept\n",
    "x2 = np.array([]) #<--------------------------------------------- Store x of the left x-intercept\n",
    "x3 = np.array([]) #<--------------------------------------------- Store x of the y-intercept\n",
    "y1 = np.array([]) #<--------------------------------------------- Store y of the right x-intercept\n",
    "y2 = np.array([]) #<--------------------------------------------- Store y of left x-intercept \n",
    "y3 = np.array([]) #<--------------------------------------------- Store y of the y-intercept\n",
    "\n",
    "#loop through Rodwell data to extract diameter and height of well at each time step\n",
    "for i in range(3, len(D)-1):\n",
    "    x1 = np.append(x1,D[i]/2)\n",
    "    x2 = np.append(x2,-D[i]/2)\n",
    "    x3 = np.append(x3, 0)\n",
    "    y1 = np.append(y1, 0)\n",
    "    y2 = np.append(y2, 0)\n",
    "    y3 = np.append(y3,-H[i])\n",
    "    \n",
    "#intitilaze arrays to store A,B,C\n",
    "A = np.array([])\n",
    "B = np.array([])\n",
    "C = np.array([])\n",
    "\n",
    "#generate A,B,C for each time step\n",
    "for i in range(len(x1)-1):\n",
    "    a, b, c = calc_parabola_vertex(x1[i], y1[i], x2[i], y2[i], x3[i], y3[i])\n",
    "    A = np.append(A, a)\n",
    "    B = np.append(B, b)\n",
    "    C = np.append(C, c)\n",
    "\n",
    "#start plotting\n",
    "import matplotlib.pyplot as plt\n",
    "import matplotlib\n",
    "import numpy as np\n",
    "import time\n",
    "#allow for \"Animation\"\n",
    "from IPython.display import clear_output\n",
    "\n",
    "#loop through x steps\n",
    "x=10\n",
    "for i in range(10, len(x1)-1, x):\n",
    "    #clear the last plot\n",
    "    clear_output(wait=True)\n",
    "    #create new plot\n",
    "    fig = matplotlib.pyplot.gcf()\n",
    "    fig.set_size_inches(18.5, 10.5) \n",
    "    fig.set_dpi(100)\n",
    "    plt.clf()\n",
    "    #Determine how fast to animate\n",
    "    time.sleep(0.01)\n",
    "    \n",
    "    #create x values of parabola based on dimensions of well at each time step\n",
    "    x = np.linspace(x2[i], x1[i], 100)\n",
    "    #generate the parabola\n",
    "    y = (A[i]*x**2)+(B[i]*x)+C[i]\n",
    "    \n",
    "    #Plot the parabola\n",
    "    plt.xlim([-10,10])\n",
    "    plt.ylim([y3[-1]-2,0])\n",
    "    plt.xlabel(\"Depth (m)\", fontsize = 20)\n",
    "    plt.ylabel(\"Width (m)\", fontsize = 20)\n",
    "    plt.grid()\n",
    "    plt.plot(x, y, c = 'r', linewidth = 6) #can change linewidth here\n",
    "    plt.show()\n",
    "    \n",
    "    #extract radius and height\n",
    "    Radius = x1[i]\n",
    "    Height = -y3[i]\n",
    "    \n",
    "    #compute volume of well\n",
    "    v = np.pi*Radius**2*Height/2\n",
    "\n",
    "    #print values\n",
    "    print(\"Final Radius: \"+str(Radius))\n",
    "    print(\"Final Height: \"+str(Height))\n",
    "    print(\"Final Volume: \"+str(v))\n",
    "\n"
   ]
  },
  {
   "cell_type": "code",
   "execution_count": null,
   "id": "d5ce2032",
   "metadata": {},
   "outputs": [],
   "source": []
  }
 ],
 "metadata": {
  "kernelspec": {
   "display_name": "Python 3",
   "language": "python",
   "name": "python3"
  },
  "language_info": {
   "codemirror_mode": {
    "name": "ipython",
    "version": 3
   },
   "file_extension": ".py",
   "mimetype": "text/x-python",
   "name": "python",
   "nbconvert_exporter": "python",
   "pygments_lexer": "ipython3",
   "version": "3.8.8"
  }
 },
 "nbformat": 4,
 "nbformat_minor": 5
}
